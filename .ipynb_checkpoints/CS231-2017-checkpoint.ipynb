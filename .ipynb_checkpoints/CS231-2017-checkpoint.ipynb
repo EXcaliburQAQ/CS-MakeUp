{
 "cells": [
  {
   "cell_type": "markdown",
   "metadata": {},
   "source": [
    "## P1\n",
    "### 1. L1和L2区别 选择的原因？"
   ]
  },
  {
   "cell_type": "markdown",
   "metadata": {},
   "source": [
    "## P2\n",
    "### 2. 训练集 测试集 验证集 的区别及选用?\n",
    "![](./image/cs231n/1-split-data.png)\n",
    "还有K折交叉验证 userful for small dataset but not well in DL\n"
   ]
  },
  {
   "cell_type": "markdown",
   "metadata": {},
   "source": [
    "### Hinge Loss\n",
    "最大值为正无穷 最小值为负一。正样本分数变大 损失函数不变。\n",
    "比较接近时，损失函数是C-1。\n",
    "### 正则项\n",
    "使模型不是特复杂 噢卡姆剃刀原理。减轻模型复杂性 而不是为了拟合数据\n",
    "\n",
    "### L1和L2解释模型的复杂度是不一样的 。\n",
    "如[1,0,0,0]与[0,25,0.25,0.25,0.25] L1认为一样复杂 L2认为前者复杂。L1更喜欢稀疏解\n"
   ]
  }
 ],
 "metadata": {
  "kernelspec": {
   "display_name": "Python 3",
   "language": "python",
   "name": "python3"
  },
  "language_info": {
   "codemirror_mode": {
    "name": "ipython",
    "version": 3
   },
   "file_extension": ".py",
   "mimetype": "text/x-python",
   "name": "python",
   "nbconvert_exporter": "python",
   "pygments_lexer": "ipython3",
   "version": "3.7.1"
  }
 },
 "nbformat": 4,
 "nbformat_minor": 2
}
